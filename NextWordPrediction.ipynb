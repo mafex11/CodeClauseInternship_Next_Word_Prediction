{
  "nbformat": 4,
  "nbformat_minor": 0,
  "metadata": {
    "colab": {
      "provenance": []
    },
    "kernelspec": {
      "name": "python3",
      "display_name": "Python 3"
    },
    "language_info": {
      "name": "python"
    }
  },
  "cells": [
    {
      "cell_type": "markdown",
      "source": [
        "**IMPORTING REQUIRED LIBRARIES**"
      ],
      "metadata": {
        "id": "m3ZVSPkmlR9t"
      }
    },
    {
      "cell_type": "code",
      "execution_count": 3,
      "metadata": {
        "id": "n-YHLmNtgTgy"
      },
      "outputs": [],
      "source": [
        "import tensorflow as tf\n",
        "from tensorflow.keras.preprocessing.text import Tokenizer\n",
        "from tensorflow.keras.layers import Embedding, LSTM, Dense\n",
        "from tensorflow.keras.models import Sequential\n",
        "from tensorflow.keras.utils import to_categorical\n",
        "from tensorflow.keras.optimizers import Adam\n",
        "import pickle\n",
        "import os\n",
        "import numpy as np"
      ]
    },
    {
      "cell_type": "markdown",
      "source": [
        "**UPLOADING TEXT FILE**"
      ],
      "metadata": {
        "id": "t5aSHXeylbnn"
      }
    },
    {
      "cell_type": "code",
      "source": [
        "from google.colab import files\n",
        "uploaded = files.upload()"
      ],
      "metadata": {
        "colab": {
          "base_uri": "https://localhost:8080/",
          "height": 73
        },
        "id": "8JPJyWbagaZd",
        "outputId": "5f99d734-4475-4669-d025-0213ec68f496"
      },
      "execution_count": 4,
      "outputs": [
        {
          "output_type": "display_data",
          "data": {
            "text/plain": [
              "<IPython.core.display.HTML object>"
            ],
            "text/html": [
              "\n",
              "     <input type=\"file\" id=\"files-2e178ce2-3a7e-4cd0-9f8f-e6181afce3d9\" name=\"files[]\" multiple disabled\n",
              "        style=\"border:none\" />\n",
              "     <output id=\"result-2e178ce2-3a7e-4cd0-9f8f-e6181afce3d9\">\n",
              "      Upload widget is only available when the cell has been executed in the\n",
              "      current browser session. Please rerun this cell to enable.\n",
              "      </output>\n",
              "      <script>// Copyright 2017 Google LLC\n",
              "//\n",
              "// Licensed under the Apache License, Version 2.0 (the \"License\");\n",
              "// you may not use this file except in compliance with the License.\n",
              "// You may obtain a copy of the License at\n",
              "//\n",
              "//      http://www.apache.org/licenses/LICENSE-2.0\n",
              "//\n",
              "// Unless required by applicable law or agreed to in writing, software\n",
              "// distributed under the License is distributed on an \"AS IS\" BASIS,\n",
              "// WITHOUT WARRANTIES OR CONDITIONS OF ANY KIND, either express or implied.\n",
              "// See the License for the specific language governing permissions and\n",
              "// limitations under the License.\n",
              "\n",
              "/**\n",
              " * @fileoverview Helpers for google.colab Python module.\n",
              " */\n",
              "(function(scope) {\n",
              "function span(text, styleAttributes = {}) {\n",
              "  const element = document.createElement('span');\n",
              "  element.textContent = text;\n",
              "  for (const key of Object.keys(styleAttributes)) {\n",
              "    element.style[key] = styleAttributes[key];\n",
              "  }\n",
              "  return element;\n",
              "}\n",
              "\n",
              "// Max number of bytes which will be uploaded at a time.\n",
              "const MAX_PAYLOAD_SIZE = 100 * 1024;\n",
              "\n",
              "function _uploadFiles(inputId, outputId) {\n",
              "  const steps = uploadFilesStep(inputId, outputId);\n",
              "  const outputElement = document.getElementById(outputId);\n",
              "  // Cache steps on the outputElement to make it available for the next call\n",
              "  // to uploadFilesContinue from Python.\n",
              "  outputElement.steps = steps;\n",
              "\n",
              "  return _uploadFilesContinue(outputId);\n",
              "}\n",
              "\n",
              "// This is roughly an async generator (not supported in the browser yet),\n",
              "// where there are multiple asynchronous steps and the Python side is going\n",
              "// to poll for completion of each step.\n",
              "// This uses a Promise to block the python side on completion of each step,\n",
              "// then passes the result of the previous step as the input to the next step.\n",
              "function _uploadFilesContinue(outputId) {\n",
              "  const outputElement = document.getElementById(outputId);\n",
              "  const steps = outputElement.steps;\n",
              "\n",
              "  const next = steps.next(outputElement.lastPromiseValue);\n",
              "  return Promise.resolve(next.value.promise).then((value) => {\n",
              "    // Cache the last promise value to make it available to the next\n",
              "    // step of the generator.\n",
              "    outputElement.lastPromiseValue = value;\n",
              "    return next.value.response;\n",
              "  });\n",
              "}\n",
              "\n",
              "/**\n",
              " * Generator function which is called between each async step of the upload\n",
              " * process.\n",
              " * @param {string} inputId Element ID of the input file picker element.\n",
              " * @param {string} outputId Element ID of the output display.\n",
              " * @return {!Iterable<!Object>} Iterable of next steps.\n",
              " */\n",
              "function* uploadFilesStep(inputId, outputId) {\n",
              "  const inputElement = document.getElementById(inputId);\n",
              "  inputElement.disabled = false;\n",
              "\n",
              "  const outputElement = document.getElementById(outputId);\n",
              "  outputElement.innerHTML = '';\n",
              "\n",
              "  const pickedPromise = new Promise((resolve) => {\n",
              "    inputElement.addEventListener('change', (e) => {\n",
              "      resolve(e.target.files);\n",
              "    });\n",
              "  });\n",
              "\n",
              "  const cancel = document.createElement('button');\n",
              "  inputElement.parentElement.appendChild(cancel);\n",
              "  cancel.textContent = 'Cancel upload';\n",
              "  const cancelPromise = new Promise((resolve) => {\n",
              "    cancel.onclick = () => {\n",
              "      resolve(null);\n",
              "    };\n",
              "  });\n",
              "\n",
              "  // Wait for the user to pick the files.\n",
              "  const files = yield {\n",
              "    promise: Promise.race([pickedPromise, cancelPromise]),\n",
              "    response: {\n",
              "      action: 'starting',\n",
              "    }\n",
              "  };\n",
              "\n",
              "  cancel.remove();\n",
              "\n",
              "  // Disable the input element since further picks are not allowed.\n",
              "  inputElement.disabled = true;\n",
              "\n",
              "  if (!files) {\n",
              "    return {\n",
              "      response: {\n",
              "        action: 'complete',\n",
              "      }\n",
              "    };\n",
              "  }\n",
              "\n",
              "  for (const file of files) {\n",
              "    const li = document.createElement('li');\n",
              "    li.append(span(file.name, {fontWeight: 'bold'}));\n",
              "    li.append(span(\n",
              "        `(${file.type || 'n/a'}) - ${file.size} bytes, ` +\n",
              "        `last modified: ${\n",
              "            file.lastModifiedDate ? file.lastModifiedDate.toLocaleDateString() :\n",
              "                                    'n/a'} - `));\n",
              "    const percent = span('0% done');\n",
              "    li.appendChild(percent);\n",
              "\n",
              "    outputElement.appendChild(li);\n",
              "\n",
              "    const fileDataPromise = new Promise((resolve) => {\n",
              "      const reader = new FileReader();\n",
              "      reader.onload = (e) => {\n",
              "        resolve(e.target.result);\n",
              "      };\n",
              "      reader.readAsArrayBuffer(file);\n",
              "    });\n",
              "    // Wait for the data to be ready.\n",
              "    let fileData = yield {\n",
              "      promise: fileDataPromise,\n",
              "      response: {\n",
              "        action: 'continue',\n",
              "      }\n",
              "    };\n",
              "\n",
              "    // Use a chunked sending to avoid message size limits. See b/62115660.\n",
              "    let position = 0;\n",
              "    do {\n",
              "      const length = Math.min(fileData.byteLength - position, MAX_PAYLOAD_SIZE);\n",
              "      const chunk = new Uint8Array(fileData, position, length);\n",
              "      position += length;\n",
              "\n",
              "      const base64 = btoa(String.fromCharCode.apply(null, chunk));\n",
              "      yield {\n",
              "        response: {\n",
              "          action: 'append',\n",
              "          file: file.name,\n",
              "          data: base64,\n",
              "        },\n",
              "      };\n",
              "\n",
              "      let percentDone = fileData.byteLength === 0 ?\n",
              "          100 :\n",
              "          Math.round((position / fileData.byteLength) * 100);\n",
              "      percent.textContent = `${percentDone}% done`;\n",
              "\n",
              "    } while (position < fileData.byteLength);\n",
              "  }\n",
              "\n",
              "  // All done.\n",
              "  yield {\n",
              "    response: {\n",
              "      action: 'complete',\n",
              "    }\n",
              "  };\n",
              "}\n",
              "\n",
              "scope.google = scope.google || {};\n",
              "scope.google.colab = scope.google.colab || {};\n",
              "scope.google.colab._files = {\n",
              "  _uploadFiles,\n",
              "  _uploadFilesContinue,\n",
              "};\n",
              "})(self);\n",
              "</script> "
            ]
          },
          "metadata": {}
        },
        {
          "output_type": "stream",
          "name": "stdout",
          "text": [
            "Saving pizza.txt to pizza.txt\n"
          ]
        }
      ]
    },
    {
      "cell_type": "markdown",
      "source": [
        "**STORING THE FILE CONTENTS INTO A LIST**\n",
        "**AND PREPROCESSING**\n",
        "\n"
      ],
      "metadata": {
        "id": "tEuMkhKWliu6"
      }
    },
    {
      "cell_type": "code",
      "source": [
        "file = open(\"pizza.txt\",\"r\",encoding=\"utf8\")\n",
        "\n",
        "lines=[]\n",
        "for i in file:\n",
        "  lines.append(i)\n",
        "\n",
        "#converting list to string\n",
        "data = ''\n",
        "for i in lines:\n",
        "  data = ' '.join(lines)\n",
        "\n",
        "#replacing unnecessary characters with space\n",
        "data = data.replace('\\n','').replace(\"\\r\",'').replace('\\ufeff','').replace('\"','').replace('*','').replace(',','')\n",
        "\n",
        "#removing unnecessary spaces\n",
        "data = data.split()\n",
        "data = ' '.join(data)\n",
        "print(data[:500])\n",
        "data[:500]\n",
        "print('Length: ',len(data))"
      ],
      "metadata": {
        "colab": {
          "base_uri": "https://localhost:8080/"
        },
        "id": "RT-5nmqClGqC",
        "outputId": "b028285a-b563-4f42-e27b-d1266be55838"
      },
      "execution_count": 5,
      "outputs": [
        {
          "output_type": "stream",
          "name": "stdout",
          "text": [
            "Pizza the delectable and iconic dish that has transcended borders and captivated taste buds worldwide is a testament to the extraordinary fusion of flavors creativity and cultural significance. Originating from the sun-kissed lands of Italy pizza has evolved into an art form that unites people from diverse backgrounds in a shared love for its mouthwatering combinations. Its history stretches back centuries with roots tracing back to ancient civilizations like the Greeks Romans and Egyptians who \n",
            "Length:  10823\n"
          ]
        }
      ]
    },
    {
      "cell_type": "markdown",
      "source": [
        "**CREATING TOKENIZER OBJECT AND FITTING TO \"data\" VARIABLE.**\n",
        "\n",
        "\n",
        "\n"
      ],
      "metadata": {
        "id": "bcvWVw57ntUH"
      }
    },
    {
      "cell_type": "code",
      "source": [
        "tokenizer = Tokenizer()\n",
        "tokenizer.fit_on_texts([data])\n",
        "\n",
        "#saving the tokenizer for predict function\n",
        "pickle.dump(tokenizer,open('token.pkl','wb'))\n",
        "\n",
        "sequence_data = tokenizer.texts_to_sequences([data])[0]\n",
        "sequence_data[:15]\n",
        "print(\"Length: \",len(sequence_data))"
      ],
      "metadata": {
        "colab": {
          "base_uri": "https://localhost:8080/"
        },
        "id": "ooTC9j4hnthk",
        "outputId": "d2fa553f-c2ab-4704-a841-79a0df00d569"
      },
      "execution_count": 6,
      "outputs": [
        {
          "output_type": "stream",
          "name": "stdout",
          "text": [
            "Length:  1707\n"
          ]
        }
      ]
    },
    {
      "cell_type": "markdown",
      "source": [
        "***Calculating the size of the vocabulary that the tokenizer object has learned. ***"
      ],
      "metadata": {
        "id": "VZOglOSOc47E"
      }
    },
    {
      "cell_type": "code",
      "source": [
        "vocab_size = len(tokenizer.word_index)+1\n",
        "print(vocab_size)"
      ],
      "metadata": {
        "colab": {
          "base_uri": "https://localhost:8080/"
        },
        "id": "ciqeuy92qRQP",
        "outputId": "aafd7239-23d7-4123-fc21-0c1b72e6f58e"
      },
      "execution_count": 7,
      "outputs": [
        {
          "output_type": "stream",
          "name": "stdout",
          "text": [
            "687\n"
          ]
        }
      ]
    },
    {
      "cell_type": "code",
      "source": [
        "sequences = []\n",
        "for i in range(3,len(sequence_data)):\n",
        "  words = sequence_data[i-3:i+1]\n",
        "  sequences.append(words)\n",
        "\n",
        "print(\"Length of sequences: \",len(sequences))\n",
        "sequences = np.array(sequences)\n",
        "sequences[:10]"
      ],
      "metadata": {
        "colab": {
          "base_uri": "https://localhost:8080/"
        },
        "id": "Yplnr4f1o9y8",
        "outputId": "ec8584ae-e79f-4f28-b090-96bf4a95a8e7"
      },
      "execution_count": 8,
      "outputs": [
        {
          "output_type": "stream",
          "name": "stdout",
          "text": [
            "Length of sequences:  1704\n"
          ]
        },
        {
          "output_type": "execute_result",
          "data": {
            "text/plain": [
              "array([[  3,   1, 233,   2],\n",
              "       [  1, 233,   2,  45],\n",
              "       [233,   2,  45,  35],\n",
              "       [  2,  45,  35,  13],\n",
              "       [ 45,  35,  13,   8],\n",
              "       [ 35,  13,   8, 114],\n",
              "       [ 13,   8, 114, 234],\n",
              "       [  8, 114, 234,   2],\n",
              "       [114, 234,   2, 235],\n",
              "       [234,   2, 235,  74]])"
            ]
          },
          "metadata": {},
          "execution_count": 8
        }
      ]
    },
    {
      "cell_type": "code",
      "source": [
        "x=[]\n",
        "y=[]\n",
        "for i in sequences:\n",
        "  x.append(i[0:3])\n",
        "  y.append(i[3])\n",
        "\n",
        "#x data acts as input which is used for prediction.\n",
        "x = np.array(x)\n",
        "#y is response data which is predicted based on x\n",
        "y = np.array(y)"
      ],
      "metadata": {
        "id": "93Y8a9voph_G"
      },
      "execution_count": 9,
      "outputs": []
    },
    {
      "cell_type": "code",
      "source": [
        "print(\"Data: \\n\",x[:10])\n",
        "print(\"Response: \\n\",y[:10])"
      ],
      "metadata": {
        "colab": {
          "base_uri": "https://localhost:8080/"
        },
        "id": "0WhUqcuspy_3",
        "outputId": "a9697341-18fa-426d-b685-e5dd5eeca360"
      },
      "execution_count": 10,
      "outputs": [
        {
          "output_type": "stream",
          "name": "stdout",
          "text": [
            "Data: \n",
            " [[  3   1 233]\n",
            " [  1 233   2]\n",
            " [233   2  45]\n",
            " [  2  45  35]\n",
            " [ 45  35  13]\n",
            " [ 35  13   8]\n",
            " [ 13   8 114]\n",
            " [  8 114 234]\n",
            " [114 234   2]\n",
            " [234   2 235]]\n",
            "Response: \n",
            " [  2  45  35  13   8 114 234   2 235  74]\n"
          ]
        }
      ]
    },
    {
      "cell_type": "code",
      "source": [
        "y = to_categorical(y, num_classes=vocab_size)\n",
        "y[:5]"
      ],
      "metadata": {
        "colab": {
          "base_uri": "https://localhost:8080/"
        },
        "id": "zO-1BblpqDK4",
        "outputId": "7f218543-8439-4a58-ad3a-6ef174f7e54d"
      },
      "execution_count": 11,
      "outputs": [
        {
          "output_type": "execute_result",
          "data": {
            "text/plain": [
              "array([[0., 0., 1., ..., 0., 0., 0.],\n",
              "       [0., 0., 0., ..., 0., 0., 0.],\n",
              "       [0., 0., 0., ..., 0., 0., 0.],\n",
              "       [0., 0., 0., ..., 0., 0., 0.],\n",
              "       [0., 0., 0., ..., 0., 0., 0.]], dtype=float32)"
            ]
          },
          "metadata": {},
          "execution_count": 11
        }
      ]
    },
    {
      "cell_type": "code",
      "source": [
        "model = Sequential()\n",
        "model.add(Embedding(vocab_size,10,input_length=3))\n",
        "model.add(LSTM(1000,return_sequences=True))\n",
        "model.add(LSTM(1000))\n",
        "model.add(Dense(1000,activation=\"relu\"))\n",
        "model.add(Dense(vocab_size,activation=\"softmax\"))"
      ],
      "metadata": {
        "id": "do71DpZfqrDU"
      },
      "execution_count": 12,
      "outputs": []
    },
    {
      "cell_type": "code",
      "source": [
        "print(model.summary())"
      ],
      "metadata": {
        "colab": {
          "base_uri": "https://localhost:8080/"
        },
        "id": "k2A84RGAsXJt",
        "outputId": "e1dbd18e-982a-4255-e1ca-f26bb252c838"
      },
      "execution_count": 13,
      "outputs": [
        {
          "output_type": "stream",
          "name": "stdout",
          "text": [
            "Model: \"sequential\"\n",
            "_________________________________________________________________\n",
            " Layer (type)                Output Shape              Param #   \n",
            "=================================================================\n",
            " embedding (Embedding)       (None, 3, 10)             6870      \n",
            "                                                                 \n",
            " lstm (LSTM)                 (None, 3, 1000)           4044000   \n",
            "                                                                 \n",
            " lstm_1 (LSTM)               (None, 1000)              8004000   \n",
            "                                                                 \n",
            " dense (Dense)               (None, 1000)              1001000   \n",
            "                                                                 \n",
            " dense_1 (Dense)             (None, 687)               687687    \n",
            "                                                                 \n",
            "=================================================================\n",
            "Total params: 13743557 (52.43 MB)\n",
            "Trainable params: 13743557 (52.43 MB)\n",
            "Non-trainable params: 0 (0.00 Byte)\n",
            "_________________________________________________________________\n",
            "None\n"
          ]
        }
      ]
    },
    {
      "cell_type": "code",
      "source": [
        "from tensorflow.keras.callbacks import ModelCheckpoint\n",
        "\n",
        "checkpoint = ModelCheckpoint(\"next_words.h5\",monitor=\"loss\",verbose=1,save_best_only=True)\n",
        "model.compile(loss=\"categorical_crossentropy\",optimizer=Adam(learning_rate=0.001))\n",
        "model.fit(x,y,epochs=30,batch_size=64,callbacks=[checkpoint])"
      ],
      "metadata": {
        "colab": {
          "base_uri": "https://localhost:8080/"
        },
        "id": "pLF9Xg7DtTb_",
        "outputId": "2d9c166d-1ab8-4c4b-faf5-e820d38f61cd"
      },
      "execution_count": 14,
      "outputs": [
        {
          "output_type": "stream",
          "name": "stdout",
          "text": [
            "Epoch 1/30\n",
            "27/27 [==============================] - ETA: 0s - loss: 6.2401\n",
            "Epoch 1: loss improved from inf to 6.24007, saving model to next_words.h5\n"
          ]
        },
        {
          "output_type": "stream",
          "name": "stderr",
          "text": [
            "/usr/local/lib/python3.10/dist-packages/keras/src/engine/training.py:3079: UserWarning: You are saving your model as an HDF5 file via `model.save()`. This file format is considered legacy. We recommend using instead the native Keras format, e.g. `model.save('my_model.keras')`.\n",
            "  saving_api.save_model(\n"
          ]
        },
        {
          "output_type": "stream",
          "name": "stdout",
          "text": [
            "\b\b\b\b\b\b\b\b\b\b\b\b\b\b\b\b\b\b\b\b\b\b\b\b\b\b\b\b\b\b\b\b\b\b\b\b\b\b\b\b\b\b\b\b\b\b\b\b\b\b\b\b\b\b\b\b\b\b\b\b\b\b\b\r27/27 [==============================] - 23s 686ms/step - loss: 6.2401\n",
            "Epoch 2/30\n",
            "27/27 [==============================] - ETA: 0s - loss: 5.8184\n",
            "Epoch 2: loss improved from 6.24007 to 5.81841, saving model to next_words.h5\n",
            "27/27 [==============================] - 16s 604ms/step - loss: 5.8184\n",
            "Epoch 3/30\n",
            "27/27 [==============================] - ETA: 0s - loss: 5.6899\n",
            "Epoch 3: loss improved from 5.81841 to 5.68987, saving model to next_words.h5\n",
            "27/27 [==============================] - 17s 616ms/step - loss: 5.6899\n",
            "Epoch 4/30\n",
            "27/27 [==============================] - ETA: 0s - loss: 5.6073\n",
            "Epoch 4: loss improved from 5.68987 to 5.60726, saving model to next_words.h5\n",
            "27/27 [==============================] - 18s 661ms/step - loss: 5.6073\n",
            "Epoch 5/30\n",
            "27/27 [==============================] - ETA: 0s - loss: 5.5423\n",
            "Epoch 5: loss improved from 5.60726 to 5.54234, saving model to next_words.h5\n",
            "27/27 [==============================] - 17s 614ms/step - loss: 5.5423\n",
            "Epoch 6/30\n",
            "27/27 [==============================] - ETA: 0s - loss: 5.4736\n",
            "Epoch 6: loss improved from 5.54234 to 5.47359, saving model to next_words.h5\n",
            "27/27 [==============================] - 17s 619ms/step - loss: 5.4736\n",
            "Epoch 7/30\n",
            "27/27 [==============================] - ETA: 0s - loss: 5.3897\n",
            "Epoch 7: loss improved from 5.47359 to 5.38967, saving model to next_words.h5\n",
            "27/27 [==============================] - 18s 662ms/step - loss: 5.3897\n",
            "Epoch 8/30\n",
            "27/27 [==============================] - ETA: 0s - loss: 5.3183\n",
            "Epoch 8: loss improved from 5.38967 to 5.31834, saving model to next_words.h5\n",
            "27/27 [==============================] - 17s 640ms/step - loss: 5.3183\n",
            "Epoch 9/30\n",
            "27/27 [==============================] - ETA: 0s - loss: 5.2621\n",
            "Epoch 9: loss improved from 5.31834 to 5.26205, saving model to next_words.h5\n",
            "27/27 [==============================] - 17s 626ms/step - loss: 5.2621\n",
            "Epoch 10/30\n",
            "27/27 [==============================] - ETA: 0s - loss: 5.2123\n",
            "Epoch 10: loss improved from 5.26205 to 5.21231, saving model to next_words.h5\n",
            "27/27 [==============================] - 18s 671ms/step - loss: 5.2123\n",
            "Epoch 11/30\n",
            "27/27 [==============================] - ETA: 0s - loss: 5.1565\n",
            "Epoch 11: loss improved from 5.21231 to 5.15654, saving model to next_words.h5\n",
            "27/27 [==============================] - 17s 632ms/step - loss: 5.1565\n",
            "Epoch 12/30\n",
            "27/27 [==============================] - ETA: 0s - loss: 5.0908\n",
            "Epoch 12: loss improved from 5.15654 to 5.09076, saving model to next_words.h5\n",
            "27/27 [==============================] - 17s 622ms/step - loss: 5.0908\n",
            "Epoch 13/30\n",
            "27/27 [==============================] - ETA: 0s - loss: 4.9996\n",
            "Epoch 13: loss improved from 5.09076 to 4.99956, saving model to next_words.h5\n",
            "27/27 [==============================] - 18s 649ms/step - loss: 4.9996\n",
            "Epoch 14/30\n",
            "27/27 [==============================] - ETA: 0s - loss: 4.9319\n",
            "Epoch 14: loss improved from 4.99956 to 4.93191, saving model to next_words.h5\n",
            "27/27 [==============================] - 17s 615ms/step - loss: 4.9319\n",
            "Epoch 15/30\n",
            "27/27 [==============================] - ETA: 0s - loss: 4.8405\n",
            "Epoch 15: loss improved from 4.93191 to 4.84049, saving model to next_words.h5\n",
            "27/27 [==============================] - 16s 608ms/step - loss: 4.8405\n",
            "Epoch 16/30\n",
            "27/27 [==============================] - ETA: 0s - loss: 4.7192\n",
            "Epoch 16: loss improved from 4.84049 to 4.71916, saving model to next_words.h5\n",
            "27/27 [==============================] - 16s 601ms/step - loss: 4.7192\n",
            "Epoch 17/30\n",
            "27/27 [==============================] - ETA: 0s - loss: 4.6115\n",
            "Epoch 17: loss improved from 4.71916 to 4.61155, saving model to next_words.h5\n",
            "27/27 [==============================] - 17s 624ms/step - loss: 4.6115\n",
            "Epoch 18/30\n",
            "27/27 [==============================] - ETA: 0s - loss: 4.5105\n",
            "Epoch 18: loss improved from 4.61155 to 4.51046, saving model to next_words.h5\n",
            "27/27 [==============================] - 16s 611ms/step - loss: 4.5105\n",
            "Epoch 19/30\n",
            "27/27 [==============================] - ETA: 0s - loss: 4.3950\n",
            "Epoch 19: loss improved from 4.51046 to 4.39495, saving model to next_words.h5\n",
            "27/27 [==============================] - 16s 595ms/step - loss: 4.3950\n",
            "Epoch 20/30\n",
            "27/27 [==============================] - ETA: 0s - loss: 4.3474\n",
            "Epoch 20: loss improved from 4.39495 to 4.34737, saving model to next_words.h5\n",
            "27/27 [==============================] - 16s 601ms/step - loss: 4.3474\n",
            "Epoch 21/30\n",
            "27/27 [==============================] - ETA: 0s - loss: 4.2772\n",
            "Epoch 21: loss improved from 4.34737 to 4.27722, saving model to next_words.h5\n",
            "27/27 [==============================] - 17s 612ms/step - loss: 4.2772\n",
            "Epoch 22/30\n",
            "27/27 [==============================] - ETA: 0s - loss: 4.1626\n",
            "Epoch 22: loss improved from 4.27722 to 4.16257, saving model to next_words.h5\n",
            "27/27 [==============================] - 16s 601ms/step - loss: 4.1626\n",
            "Epoch 23/30\n",
            "27/27 [==============================] - ETA: 0s - loss: 4.0847\n",
            "Epoch 23: loss improved from 4.16257 to 4.08474, saving model to next_words.h5\n",
            "27/27 [==============================] - 18s 685ms/step - loss: 4.0847\n",
            "Epoch 24/30\n",
            "27/27 [==============================] - ETA: 0s - loss: 3.9554\n",
            "Epoch 24: loss improved from 4.08474 to 3.95541, saving model to next_words.h5\n",
            "27/27 [==============================] - 20s 714ms/step - loss: 3.9554\n",
            "Epoch 25/30\n",
            "27/27 [==============================] - ETA: 0s - loss: 3.7981\n",
            "Epoch 25: loss improved from 3.95541 to 3.79811, saving model to next_words.h5\n",
            "27/27 [==============================] - 16s 603ms/step - loss: 3.7981\n",
            "Epoch 26/30\n",
            "27/27 [==============================] - ETA: 0s - loss: 3.6724\n",
            "Epoch 26: loss improved from 3.79811 to 3.67244, saving model to next_words.h5\n",
            "27/27 [==============================] - 16s 599ms/step - loss: 3.6724\n",
            "Epoch 27/30\n",
            "27/27 [==============================] - ETA: 0s - loss: 3.5268\n",
            "Epoch 27: loss improved from 3.67244 to 3.52682, saving model to next_words.h5\n",
            "27/27 [==============================] - 17s 635ms/step - loss: 3.5268\n",
            "Epoch 28/30\n",
            "27/27 [==============================] - ETA: 0s - loss: 3.4301\n",
            "Epoch 28: loss improved from 3.52682 to 3.43008, saving model to next_words.h5\n",
            "27/27 [==============================] - 16s 607ms/step - loss: 3.4301\n",
            "Epoch 29/30\n",
            "27/27 [==============================] - ETA: 0s - loss: 3.2959\n",
            "Epoch 29: loss improved from 3.43008 to 3.29592, saving model to next_words.h5\n",
            "27/27 [==============================] - 16s 599ms/step - loss: 3.2959\n",
            "Epoch 30/30\n",
            "27/27 [==============================] - ETA: 0s - loss: 3.1463\n",
            "Epoch 30: loss improved from 3.29592 to 3.14634, saving model to next_words.h5\n",
            "27/27 [==============================] - 18s 650ms/step - loss: 3.1463\n"
          ]
        },
        {
          "output_type": "execute_result",
          "data": {
            "text/plain": [
              "<keras.src.callbacks.History at 0x7bcdcdba7340>"
            ]
          },
          "metadata": {},
          "execution_count": 14
        }
      ]
    },
    {
      "cell_type": "code",
      "source": [
        "from tensorflow.keras.models import load_model\n",
        "\n",
        "\n",
        "#load the model and tokenizer\n",
        "model = load_model('next_words.h5')\n",
        "tokenizer = pickle.load(open('token.pkl','rb'))\n",
        "\n",
        "def Predict_Next_Words(model,tokenizer,text):\n",
        "  sequence = tokenizer.texts_to_sequences([text])\n",
        "  sequence = np.array(sequence)\n",
        "  preds = np.argmax(model.predict(sequence))\n",
        "  predict_word = \"\"\n",
        "\n",
        "  for key,value in tokenizer.word_index.items():\n",
        "    if value == preds:\n",
        "      predicted_word = key\n",
        "      break\n",
        "\n",
        "  print(predicted_word)\n",
        "  return predicted_word"
      ],
      "metadata": {
        "id": "Z5HK2Hb8Eg8l"
      },
      "execution_count": 15,
      "outputs": []
    },
    {
      "cell_type": "code",
      "source": [
        "while (True):\n",
        "  text = input(\"Enter your line: \")\n",
        "\n",
        "  if text==\"0\":\n",
        "    print(\"Execution Terminated...\")\n",
        "    break\n",
        "  else:\n",
        "    try:\n",
        "      text = text.split(\" \")\n",
        "      text = text[-3:]\n",
        "      print(text)\n",
        "      Predict_Next_Words(model,tokenizer,text)\n",
        "    except Exception as e:\n",
        "      print(\"Error Occured: \",e)\n",
        "      continue"
      ],
      "metadata": {
        "colab": {
          "base_uri": "https://localhost:8080/"
        },
        "id": "ON20NhDmYeFp",
        "outputId": "bc6b386e-f101-47e8-a2f0-69d9c31176ed"
      },
      "execution_count": null,
      "outputs": [
        {
          "output_type": "stream",
          "name": "stdout",
          "text": [
            "Enter your line: Pizza has woven \n",
            "['has', 'woven', '']\n",
            "1/1 [==============================] - 0s 45ms/step\n",
            "flavors\n",
            "Enter your line: pizza has transcended\n",
            "['pizza', 'has', 'transcended']\n",
            "1/1 [==============================] - 0s 43ms/step\n",
            "to\n"
          ]
        }
      ]
    }
  ]
}